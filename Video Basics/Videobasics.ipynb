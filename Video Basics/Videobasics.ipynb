{
 "cells": [
  {
   "cell_type": "markdown",
   "metadata": {},
   "source": [
    "\n",
    "# Connecting to camera\n"
   ]
  },
  {
   "cell_type": "code",
   "execution_count": 5,
   "metadata": {},
   "outputs": [],
   "source": [
    "import cv2"
   ]
  },
  {
   "cell_type": "code",
   "execution_count": 10,
   "metadata": {},
   "outputs": [],
   "source": [
    "capture=cv2.VideoCapture(0)\n",
    "width=int(capture.get(cv2.CAP_PROP_FRAME_WIDTH))\n",
    "height=int(capture.get(cv2.CAP_PROP_FRAME_HEIGHT))\n",
    "writer=cv2.VideoWriter(\"Desktop/param.mp4\",cv2.VideoWriter_fourcc(*\"DIVX\"),20,(width,height))"
   ]
  },
  {
   "cell_type": "code",
   "execution_count": 11,
   "metadata": {},
   "outputs": [],
   "source": [
    "while True:\n",
    "    \n",
    "    ret,frame=capture.read()\n",
    "    writer.write(frame)\n",
    "    cv2.imshow(\"param\",frame)\n",
    "    if cv2.waitKey(2) & 0xFF==27:\n",
    "        break\n",
    "cv2.destroyAllWindows()\n",
    "capture.release()\n",
    "writer.release()"
   ]
  },
  {
   "cell_type": "markdown",
   "metadata": {},
   "source": [
    "# USing the video files"
   ]
  },
  {
   "cell_type": "code",
   "execution_count": 25,
   "metadata": {},
   "outputs": [],
   "source": [
    "import cv2\n",
    "import time"
   ]
  },
  {
   "cell_type": "code",
   "execution_count": 26,
   "metadata": {},
   "outputs": [],
   "source": [
    "cap=cv2.VideoCapture(\"Desktop/param.mp4\")\n"
   ]
  },
  {
   "cell_type": "code",
   "execution_count": 27,
   "metadata": {},
   "outputs": [],
   "source": [
    "if cap.isOpened()==False:\n",
    "    print(\"wrong file\")\n",
    "while cap.isOpened():\n",
    "    \n",
    "    ret,frame=cap.read()\n",
    "    \n",
    "    if ret==True:\n",
    "        time.sleep(1/20)\n",
    "        cv2.imshow(\"pc\",frame)\n",
    "        if cv2.waitKey(1) &0xFF==27:\n",
    "            break\n",
    "    else:\n",
    "        break\n",
    "        \n",
    "cv2.destroyAllWindows()\n",
    "cap.release()"
   ]
  },
  {
   "cell_type": "markdown",
   "metadata": {},
   "source": [
    "# Drawing on frames using webcamera"
   ]
  },
  {
   "cell_type": "code",
   "execution_count": 1,
   "metadata": {},
   "outputs": [],
   "source": [
    "import cv2"
   ]
  },
  {
   "cell_type": "code",
   "execution_count": 2,
   "metadata": {},
   "outputs": [],
   "source": [
    "capture=cv2.VideoCapture(0)\n",
    "width=int(capture.get(cv2.CAP_PROP_FRAME_WIDTH))\n",
    "height=int(capture.get(cv2.CAP_PROP_FRAME_HEIGHT))\n",
    "#top lefty corners\n",
    "x=width//2\n",
    "y=height//2\n",
    "\n",
    "#bottom right corners\n",
    "\n",
    "w=width//4\n",
    "h=height//4\n"
   ]
  },
  {
   "cell_type": "code",
   "execution_count": 3,
   "metadata": {},
   "outputs": [],
   "source": [
    "while True:\n",
    "    \n",
    "    ret,frame=capture.read()\n",
    "    cv2.rectangle(frame,pt1=(x,y),pt2=(x+w,y+h),color=(255,0,0),thickness=1)\n",
    "    cv2.imshow(\"frame\",frame)\n",
    "    if cv2.waitKey(1) & 0xFF==27:\n",
    "        break\n",
    "        \n",
    "cv2.destroyAllWindows()\n"
   ]
  },
  {
   "cell_type": "code",
   "execution_count": null,
   "metadata": {},
   "outputs": [],
   "source": []
  },
  {
   "cell_type": "markdown",
   "metadata": {},
   "source": [
    "# Drawing on frames based on user choice"
   ]
  },
  {
   "cell_type": "code",
   "execution_count": 4,
   "metadata": {},
   "outputs": [],
   "source": [
    "import cv2\n",
    "\n",
    "def draw_rectangle(event,x,y,flags,param):\n",
    "    global pt1,pt2,topleft_clicked,botright_clicked\n",
    "    if event==cv2.EVENT_LBUTTONDOWN:\n",
    "        \n",
    "        if topleft_clicked==True and botright_clicked==True:\n",
    "            \n",
    "            pt1=(0,0)\n",
    "            pt2=(0,0)\n",
    "            topleft_clicked=False\n",
    "            botright_clicked=False\n",
    "\n",
    "        if topleft_clicked==False:\n",
    "            pt1=(x,y)\n",
    "            topleft_clicked=True\n",
    "\n",
    "        elif botright_clicked==False:\n",
    "            pt2=(x,y)\n",
    "            botright_clicked=True\n",
    "        else:\n",
    "            pass\n",
    "\n",
    "\n",
    "\n",
    "##GLOBAL VARIABLES\n",
    "\n",
    "pt1=(0,0)\n",
    "pt2=(0,0)\n",
    "\n",
    "topleft_clicked=False\n",
    "botright_clicked=False\n",
    "\n",
    "#Connecting to camera\n",
    "\n",
    "capture=cv2.VideoCapture(0)\n",
    "cv2.namedWindow(\"param\")\n",
    "cv2.setMouseCallback(\"param\",draw_rectangle)\n",
    "\n",
    "while True:\n",
    "    ret,frame=capture.read()\n",
    "    \n",
    "    if topleft_clicked:\n",
    "        cv2.circle(frame,center=pt1,radius=5,color=(255,0,0),thickness=-1)\n",
    "        \n",
    "    if topleft_clicked and botright_clicked:\n",
    "        cv2.rectangle(frame,pt1,pt2,color=(0,0,255),thickness=6)\n",
    "        \n",
    "    cv2.imshow(\"param\",frame)\n",
    "    if cv2.waitKey(2) & 0xFF==27:\n",
    "            \n",
    "            break\n",
    "cv2.destroyAllWindows()\n",
    "capture.release()\n",
    "    "
   ]
  },
  {
   "cell_type": "code",
   "execution_count": null,
   "metadata": {},
   "outputs": [],
   "source": []
  },
  {
   "cell_type": "code",
   "execution_count": null,
   "metadata": {},
   "outputs": [],
   "source": []
  }
 ],
 "metadata": {
  "kernelspec": {
   "display_name": "Python 3",
   "language": "python",
   "name": "python3"
  },
  "language_info": {
   "codemirror_mode": {
    "name": "ipython",
    "version": 3
   },
   "file_extension": ".py",
   "mimetype": "text/x-python",
   "name": "python",
   "nbconvert_exporter": "python",
   "pygments_lexer": "ipython3",
   "version": "3.7.6"
  }
 },
 "nbformat": 4,
 "nbformat_minor": 4
}
